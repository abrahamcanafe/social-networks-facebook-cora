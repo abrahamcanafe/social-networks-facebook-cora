{
  "cells": [
    {
      "cell_type": "markdown",
      "metadata": {
        "id": "_lAS6uotxkqv"
      },
      "source": [
        "### Question 23"
      ]
    },
    {
      "cell_type": "markdown",
      "metadata": {
        "id": "Z55Z0ma2xkqw"
      },
      "source": [
        "#### Load Cora Dataset"
      ]
    },
    {
      "cell_type": "code",
      "execution_count": 59,
      "metadata": {
        "colab": {
          "base_uri": "https://localhost:8080/"
        },
        "id": "7Dm3b2q1xlyf",
        "outputId": "00f63202-8ced-4fe3-86b5-7a4726af49bf"
      },
      "outputs": [],
      "source": [
        "#!pip install torch_geometric ##### For Google Colab only"
      ]
    },
    {
      "cell_type": "code",
      "execution_count": 60,
      "metadata": {
        "id": "70shL6kXxkqx"
      },
      "outputs": [],
      "source": [
        "import numpy as np\n",
        "import torch\n",
        "from torch_geometric.data import Data\n",
        "import matplotlib.pyplot as plt"
      ]
    },
    {
      "cell_type": "code",
      "execution_count": 61,
      "metadata": {
        "colab": {
          "base_uri": "https://localhost:8080/"
        },
        "id": "nawJVJ2Bxkqy",
        "outputId": "103431ff-98f9-46a3-9813-92fe35d6866f"
      },
      "outputs": [],
      "source": [
        "from torch_geometric.datasets import Planetoid\n",
        "dataset = Planetoid(root='tmp/Cora', name='Cora')"
      ]
    },
    {
      "cell_type": "code",
      "execution_count": 62,
      "metadata": {
        "colab": {
          "base_uri": "https://localhost:8080/"
        },
        "id": "b53GNoEqxkqz",
        "outputId": "81d9fc40-fa75-46a5-d9d6-aca5c65094f7"
      },
      "outputs": [
        {
          "data": {
            "text/plain": [
              "7"
            ]
          },
          "execution_count": 62,
          "metadata": {},
          "output_type": "execute_result"
        }
      ],
      "source": [
        "dataset.num_classes"
      ]
    },
    {
      "cell_type": "code",
      "execution_count": 63,
      "metadata": {
        "colab": {
          "base_uri": "https://localhost:8080/"
        },
        "id": "AcFgAm2Yxkq0",
        "outputId": "08319c27-1f5f-4efa-bd0e-9194c1af8828"
      },
      "outputs": [
        {
          "data": {
            "text/plain": [
              "1433"
            ]
          },
          "execution_count": 63,
          "metadata": {},
          "output_type": "execute_result"
        }
      ],
      "source": [
        "dataset.num_node_features"
      ]
    },
    {
      "cell_type": "markdown",
      "metadata": {
        "id": "2wEyNVPPxkq0"
      },
      "source": [
        "#### Confirm Distributions and Sizes of Train-Val-Test Splits"
      ]
    },
    {
      "cell_type": "code",
      "execution_count": 64,
      "metadata": {
        "id": "sJCjTd-yxkq1"
      },
      "outputs": [],
      "source": [
        "train_inds = np.where(dataset.train_mask.detach() == True)\n",
        "val_inds = np.where(dataset.val_mask.detach() == True)\n",
        "test_inds = np.where(dataset.test_mask.detach() == True)\n",
        "\n",
        "train_labels = dataset.y.detach().numpy()[train_inds]\n",
        "val_labels = dataset.y.detach().numpy()[val_inds]\n",
        "test_labels = dataset.y.detach().numpy()[test_inds]\n"
      ]
    },
    {
      "cell_type": "code",
      "execution_count": 65,
      "metadata": {
        "colab": {
          "base_uri": "https://localhost:8080/",
          "height": 489
        },
        "id": "9uosYp2Xxkq1",
        "outputId": "046a01c0-0a0f-445e-a0ee-a74bb46e844f"
      },
      "outputs": [
        {
          "data": {
            "text/plain": [
              "Text(0.5, 1.0, 'Frequency Counts of Cora Training Dataset')"
            ]
          },
          "execution_count": 65,
          "metadata": {},
          "output_type": "execute_result"
        },
        {
          "data": {
            "image/png": "[encoded data removed]",
            "text/plain": [
              "<Figure size 432x288 with 1 Axes>"
            ]
          },
          "metadata": {
            "needs_background": "light"
          },
          "output_type": "display_data"
        }
      ],
      "source": [
        "plt.bar(np.unique(train_labels, return_counts=True)[0], height=np.unique(train_labels, return_counts=True)[1])\n",
        "plt.xlabel('Document Class')\n",
        "plt.ylabel('Frequency')\n",
        "plt.title('Frequency Counts of Cora Training Dataset')"
      ]
    },
    {
      "cell_type": "code",
      "execution_count": 66,
      "metadata": {
        "colab": {
          "base_uri": "https://localhost:8080/"
        },
        "id": "K5qxq8SJxkq3",
        "outputId": "1487c52b-de83-451a-8a09-6a1deb06af20"
      },
      "outputs": [
        {
          "data": {
            "text/plain": [
              "(array([0, 1, 2, 3, 4, 5, 6]), array([ 61,  36,  78, 158,  81,  57,  29]))"
            ]
          },
          "execution_count": 66,
          "metadata": {},
          "output_type": "execute_result"
        }
      ],
      "source": [
        "np.unique(val_labels, return_counts=True)"
      ]
    },
    {
      "cell_type": "code",
      "execution_count": 67,
      "metadata": {
        "colab": {
          "base_uri": "https://localhost:8080/",
          "height": 489
        },
        "id": "dASF3BBWxkq3",
        "outputId": "af78d155-9392-4a43-c7e0-1cda86163e31"
      },
      "outputs": [
        {
          "data": {
            "text/plain": [
              "Text(0.5, 1.0, 'Frequency Counts of Cora Validation Dataset')"
            ]
          },
          "execution_count": 67,
          "metadata": {},
          "output_type": "execute_result"
        },
        {
          "data": {
            "image/png": "[encoded data removed]",
            "text/plain": [
              "<Figure size 432x288 with 1 Axes>"
            ]
          },
          "metadata": {
            "needs_background": "light"
          },
          "output_type": "display_data"
        }
      ],
      "source": [
        "plt.bar(np.unique(val_labels, return_counts=True)[0], height=np.unique(val_labels, return_counts=True)[1])\n",
        "plt.xlabel('Document Class')\n",
        "plt.ylabel('Frequency')\n",
        "plt.title('Frequency Counts of Cora Validation Dataset')"
      ]
    },
    {
      "cell_type": "code",
      "execution_count": 68,
      "metadata": {
        "colab": {
          "base_uri": "https://localhost:8080/",
          "height": 489
        },
        "id": "SOhqHusrxkq4",
        "outputId": "5a8227fe-48c8-486c-8e30-5bc9ab350036"
      },
      "outputs": [
        {
          "data": {
            "text/plain": [
              "Text(0.5, 1.0, 'Frequency Counts of Cora Testing Dataset')"
            ]
          },
          "execution_count": 68,
          "metadata": {},
          "output_type": "execute_result"
        },
        {
          "data": {
            "image/png": "[encoded data removed]",
            "text/plain": [
              "<Figure size 432x288 with 1 Axes>"
            ]
          },
          "metadata": {
            "needs_background": "light"
          },
          "output_type": "display_data"
        }
      ],
      "source": [
        "plt.bar(np.unique(test_labels, return_counts=True)[0], height=np.unique(test_labels, return_counts=True)[1])\n",
        "plt.xlabel('Document Class')\n",
        "plt.ylabel('Frequency')\n",
        "plt.title('Frequency Counts of Cora Testing Dataset')"
      ]
    },
    {
      "cell_type": "markdown",
      "metadata": {
        "id": "cl_XRleixkq4"
      },
      "source": [
        "#### Create GCNConv Network"
      ]
    },
    {
      "cell_type": "code",
      "execution_count": 69,
      "metadata": {
        "id": "4Q_eX8uFxkq5"
      },
      "outputs": [],
      "source": [
        "import torch.nn.functional as F\n",
        "from torch_geometric.nn import GCNConv\n",
        "from torch_geometric.nn.norm import BatchNorm\n",
        "\n",
        "##### Tune this as needed\n",
        "hidden_layer_size = 64\n",
        "\n",
        "class GCN(torch.nn.Module):\n",
        "    def __init__(self):\n",
        "        super().__init__()\n",
        "        self.conv1 = GCNConv(dataset.num_node_features, hidden_layer_size)\n",
        "        self.conv2 = GCNConv(hidden_layer_size, dataset.num_classes)\n",
        "\n",
        "        self.relu = F.relu\n",
        "        self.dropout = F.dropout\n",
        "        self.log_softmax = F.log_softmax\n",
        "\n",
        "    def forward(self, data):\n",
        "        x, edge_index = data.x, data.edge_index\n",
        "        x = self.conv1(x, edge_index)\n",
        "        x = self.relu(x)\n",
        "        x = self.dropout(x, 0.5)\n",
        "        x = self.conv2(x, edge_index)\n",
        "\n",
        "        return self.log_softmax(x, dim=1)\n",
        "\n",
        "\n",
        "class DeepGCN(torch.nn.Module):\n",
        "    def __init__(self):\n",
        "        super().__init__()\n",
        "        self.conv1 = GCNConv(dataset.num_node_features, hidden_layer_size)\n",
        "        self.conv2 = GCNConv(hidden_layer_size, hidden_layer_size)\n",
        "        self.conv3 = GCNConv(hidden_layer_size, dataset.num_classes)\n",
        "\n",
        "        #self.batchnorm = BatchNorm(hidden_layer_size) ##### Experimental BatchNorm\n",
        "\n",
        "        self.relu = F.relu\n",
        "        self.dropout = F.dropout\n",
        "        self.log_softmax = F.log_softmax\n",
        "\n",
        "    def forward(self, data):\n",
        "        x, edge_index = data.x, data.edge_index\n",
        "        x = self.conv1(x, edge_index)\n",
        "        x = self.relu(x)\n",
        "        #x = self.batchnorm(x) ##### Experimental BatchNorm\n",
        "        x = self.dropout(x, 0.5)\n",
        "\n",
        "        x = self.conv2(x, edge_index)\n",
        "        x = self.relu(x)\n",
        "        #x = self.batchnorm(x) ##### Experimental BatchNorm\n",
        "        x = self.dropout(x, 0.5)\n",
        "\n",
        "        x = self.conv3(x, edge_index)\n",
        "\n",
        "        return self.log_softmax(x, dim=1)\n",
        "    \n"
      ]
    },
    {
      "cell_type": "markdown",
      "metadata": {
        "id": "35V9_dGxxkq5"
      },
      "source": [
        "#### Check for GPU"
      ]
    },
    {
      "cell_type": "code",
      "execution_count": 70,
      "metadata": {
        "colab": {
          "base_uri": "https://localhost:8080/"
        },
        "id": "qoLCIEhjxkq5",
        "outputId": "00b0f8e9-b79f-4b62-9734-8512ecdd889d"
      },
      "outputs": [
        {
          "name": "stdout",
          "output_type": "stream",
          "text": [
            "cuda\n"
          ]
        }
      ],
      "source": [
        "device = torch.device('cuda' if torch.cuda.is_available() else 'cpu')\n",
        "print(device)"
      ]
    },
    {
      "cell_type": "code",
      "execution_count": 71,
      "metadata": {
        "colab": {
          "base_uri": "https://localhost:8080/"
        },
        "id": "B_5ZQio7xkq6",
        "outputId": "a9f8847a-f74b-475a-afd2-1d9391c9e80b"
      },
      "outputs": [
        {
          "data": {
            "text/plain": [
              "{'name': 'Cora',\n",
              " 'split': 'public',\n",
              " 'root': 'tmp/Cora',\n",
              " 'transform': None,\n",
              " 'pre_transform': None,\n",
              " 'pre_filter': None,\n",
              " 'log': True,\n",
              " '_indices': None,\n",
              " '_data': Data(x=[2708, 1433], edge_index=[2, 10556], y=[2708], train_mask=[2708], val_mask=[2708], test_mask=[2708]),\n",
              " 'slices': None,\n",
              " '_data_list': None}"
            ]
          },
          "execution_count": 71,
          "metadata": {},
          "output_type": "execute_result"
        }
      ],
      "source": [
        "vars(dataset)"
      ]
    },
    {
      "cell_type": "code",
      "execution_count": 72,
      "metadata": {
        "colab": {
          "base_uri": "https://localhost:8080/"
        },
        "id": "d4mfkJnyxkq6",
        "outputId": "60bb9f4c-bfd5-44e7-a191-63dee1293c73"
      },
      "outputs": [
        {
          "data": {
            "text/plain": [
              "Data(x=[2708, 1433], edge_index=[2, 10556], y=[2708], train_mask=[2708], val_mask=[2708], test_mask=[2708])"
            ]
          },
          "execution_count": 72,
          "metadata": {},
          "output_type": "execute_result"
        }
      ],
      "source": [
        "dataset[0]"
      ]
    },
    {
      "cell_type": "code",
      "execution_count": 73,
      "metadata": {
        "colab": {
          "base_uri": "https://localhost:8080/"
        },
        "id": "NI8-WdLXxkq6",
        "outputId": "251a2b1a-72a2-4aa5-fe71-e515ab7a8efc"
      },
      "outputs": [
        {
          "data": {
            "text/plain": [
              "torch_geometric.data.data.Data"
            ]
          },
          "execution_count": 73,
          "metadata": {},
          "output_type": "execute_result"
        }
      ],
      "source": [
        "type(dataset[0])"
      ]
    },
    {
      "cell_type": "code",
      "execution_count": 74,
      "metadata": {
        "id": "wHVNHR3axkq7"
      },
      "outputs": [],
      "source": [
        "#model = GCN().to(device) # 2-Layer NN\n",
        "model = DeepGCN().to(device) # 3-Layer NN\n",
        "data = dataset[0].to(device)\n",
        "optimizer = torch.optim.Adam(model.parameters(), lr=0.001, weight_decay=0.001)"
      ]
    },
    {
      "cell_type": "code",
      "execution_count": 75,
      "metadata": {
        "colab": {
          "base_uri": "https://localhost:8080/"
        },
        "id": "ROh3FZD2xkq7",
        "outputId": "ed4499a4-713b-4526-cf05-2f094e5ea116"
      },
      "outputs": [
        {
          "data": {
            "text/plain": [
              "Data(x=[2708, 1433], edge_index=[2, 10556], y=[2708], train_mask=[2708], val_mask=[2708], test_mask=[2708])"
            ]
          },
          "execution_count": 75,
          "metadata": {},
          "output_type": "execute_result"
        }
      ],
      "source": [
        "data"
      ]
    },
    {
      "cell_type": "code",
      "execution_count": 76,
      "metadata": {
        "id": "_5vPYT5nxkq7"
      },
      "outputs": [],
      "source": [
        "from torch_geometric.loader import DataLoader\n",
        "loader = DataLoader(dataset, batch_size=32, shuffle=True)"
      ]
    },
    {
      "cell_type": "code",
      "execution_count": 77,
      "metadata": {
        "id": "BmPe6-QVxkq7"
      },
      "outputs": [],
      "source": [
        "loader = DataLoader(dataset, batch_size=32, shuffle=True)"
      ]
    },
    {
      "cell_type": "code",
      "execution_count": 78,
      "metadata": {
        "colab": {
          "base_uri": "https://localhost:8080/"
        },
        "id": "oUHUJ5ryxkq8",
        "outputId": "0022ee7e-78c5-4c4b-b971-e2878d4a1718"
      },
      "outputs": [
        {
          "name": "stderr",
          "output_type": "stream",
          "text": [
            "100%|██████████| 200/200 [00:09<00:00, 21.46it/s, Training accuracy=1, Validation accuracy=0.74]     \n"
          ]
        }
      ],
      "source": [
        "from sklearn.metrics import accuracy_score\n",
        "from tqdm import tqdm\n",
        "import random\n",
        "torch.manual_seed(42)\n",
        "random.seed(42)\n",
        "np.random.seed(42)\n",
        "\n",
        "n_epochs = 200\n",
        "pbar = tqdm(range(n_epochs))\n",
        "\n",
        "train_loss_hist = []\n",
        "val_loss_hist = []\n",
        "\n",
        "train_acc_hist = []\n",
        "val_acc_hist = []\n",
        "\n",
        "\n",
        "for epoch in pbar:\n",
        "    model.train()\n",
        "    for batch in loader:\n",
        "        optimizer.zero_grad()\n",
        "        out = model(batch.to(device))\n",
        "        loss = F.nll_loss(out[batch.train_mask], batch.y[batch.train_mask])\n",
        "\n",
        "        train_loss_hist.append(loss.item()) # Store training loss\n",
        "\n",
        "        loss.backward()\n",
        "        optimizer.step()\n",
        "\n",
        "    model.eval()\n",
        "    \n",
        "    ##### ========== Save training accuracy ========== #####\n",
        "    y_batch_pred_train = []\n",
        "    y_batch_true_train = []\n",
        "    with torch.no_grad():\n",
        "        for batch in loader:\n",
        "            train_pred = model(batch.to(device)).argmax(dim=1)\n",
        "            y_batch_pred_train.append(train_pred[data.train_mask].detach().cpu().numpy())\n",
        "            y_batch_true_train.append(batch.y[data.train_mask].detach().cpu().numpy())\n",
        "\n",
        "    \n",
        "    batch_train_acc = accuracy_score(y_batch_true_train[0], y_batch_pred_train[0])\n",
        "    train_acc_hist.append(batch_train_acc)\n",
        "    ##### ============================================ #####\n",
        "\n",
        "\n",
        "    ##### ========== Save validation accuracy ========== #####\n",
        "    y_batch_pred_val = []\n",
        "    y_batch_true_val = []\n",
        "    with torch.no_grad():\n",
        "        for batch in loader:\n",
        "            val_pred = model(batch.to(device)).argmax(dim=1)\n",
        "            val_loss = F.nll_loss(out[batch.val_mask], batch.y[batch.val_mask])\n",
        "            val_loss_hist.append(val_loss.item()) ##### Save validation loss\n",
        "            y_batch_pred_val.append(val_pred[data.val_mask].detach().cpu().numpy())\n",
        "            y_batch_true_val.append(batch.y[data.val_mask].detach().cpu().numpy())\n",
        "\n",
        "\n",
        "    batch_val_acc = accuracy_score(y_batch_true_val[0], y_batch_pred_val[0])\n",
        "    val_acc_hist.append(batch_val_acc)\n",
        "    ##### ============================================ #####\n",
        "\n",
        "    pbar.set_postfix({'Training accuracy': train_acc_hist[-1], 'Validation accuracy': val_acc_hist[-1]})\n",
        "\n",
        "\n",
        "##### ========== Without minibatches ========== #####\n",
        "\n",
        "#for epoch in pbar:\n",
        "#    model.train()\n",
        "#    for batch in loader:\n",
        "#        optimizer.zero_grad()\n",
        "#        out = model(data)\n",
        "#        loss = F.nll_loss(out[data.train_mask], data.y[data.train_mask])\n",
        "#        loss.backward()\n",
        "#        optimizer.step()\n",
        "\n",
        "##### ========================================= #####\n"
      ]
    },
    {
      "cell_type": "markdown",
      "metadata": {
        "id": "dNUvc4Jmxkq8"
      },
      "source": [
        "#### Training and Validation Losses"
      ]
    },
    {
      "cell_type": "code",
      "execution_count": 79,
      "metadata": {
        "colab": {
          "base_uri": "https://localhost:8080/",
          "height": 493
        },
        "id": "DeenoZUpxkq9",
        "outputId": "a7278e57-eeaf-4ba6-ac7b-e36372591092"
      },
      "outputs": [
        {
          "data": {
            "text/plain": [
              "Text(0.5, 1.0, 'Negative log-likelihood loss')"
            ]
          },
          "execution_count": 79,
          "metadata": {},
          "output_type": "execute_result"
        },
        {
          "data": {
            "image/png": "[encoded data removed]",
            "text/plain": [
              "<Figure size 432x288 with 2 Axes>"
            ]
          },
          "metadata": {
            "needs_background": "light"
          },
          "output_type": "display_data"
        }
      ],
      "source": [
        "plt.plot(train_loss_hist, 'b', label='Training loss')\n",
        "plt.legend(loc='lower left')\n",
        "plt.twiny()\n",
        "plt.plot(val_loss_hist, 'r', label='Validation loss')\n",
        "plt.legend(loc='upper right')\n",
        "plt.title('Negative log-likelihood loss')"
      ]
    },
    {
      "cell_type": "markdown",
      "metadata": {
        "id": "h0jRQecjxkq9"
      },
      "source": [
        "#### Training and Validation Accuracies"
      ]
    },
    {
      "cell_type": "code",
      "execution_count": 80,
      "metadata": {
        "colab": {
          "base_uri": "https://localhost:8080/",
          "height": 493
        },
        "id": "Hd289-NKxkq9",
        "outputId": "466b709a-9867-44d3-8355-c8490d61be16"
      },
      "outputs": [
        {
          "data": {
            "text/plain": [
              "Text(0.5, 1.0, 'Accuracy')"
            ]
          },
          "execution_count": 80,
          "metadata": {},
          "output_type": "execute_result"
        },
        {
          "data": {
            "image/png": "[encoded data removed]",
            "text/plain": [
              "<Figure size 432x288 with 2 Axes>"
            ]
          },
          "metadata": {
            "needs_background": "light"
          },
          "output_type": "display_data"
        }
      ],
      "source": [
        "plt.plot(train_acc_hist, 'b', label='Training accuracy')\n",
        "plt.legend(loc='upper left')\n",
        "plt.twiny()\n",
        "plt.plot(val_acc_hist, 'r', label='Validation accuracy')\n",
        "plt.legend(loc='lower right')\n",
        "plt.title('Accuracy')"
      ]
    },
    {
      "cell_type": "markdown",
      "metadata": {
        "id": "M0Swyavkxkq9"
      },
      "source": [
        "#### Test Statistics"
      ]
    },
    {
      "cell_type": "code",
      "execution_count": 81,
      "metadata": {
        "id": "uodO6qR0xkq9"
      },
      "outputs": [],
      "source": [
        "model.eval()\n",
        "pred = model(data).argmax(dim=1)\n",
        "y_pred_test = pred[data.test_mask].detach().cpu().numpy()\n",
        "y_true_test = data.y[data.test_mask].detach().cpu().numpy()"
      ]
    },
    {
      "cell_type": "code",
      "execution_count": 82,
      "metadata": {
        "colab": {
          "base_uri": "https://localhost:8080/"
        },
        "id": "96QcfVoOxkq-",
        "outputId": "2fce96e7-8150-4a77-f957-799f0c2a6049"
      },
      "outputs": [
        {
          "name": "stdout",
          "output_type": "stream",
          "text": [
            "Test accuracy:  0.778\n",
            "Precision:  0.7547633541953855\n",
            "Recall:  0.7974332358312759\n",
            "F1 score:  0.770510208170877\n"
          ]
        }
      ],
      "source": [
        "from sklearn.metrics import precision_recall_fscore_support\n",
        "test_acc = accuracy_score(y_true_test, y_pred_test)\n",
        "precision, recall, f1_score, _ = precision_recall_fscore_support(y_true_test, y_pred_test, average='macro')\n",
        "print('Test accuracy: ', test_acc)\n",
        "print('Precision: ', precision)\n",
        "print('Recall: ', recall)\n",
        "print('F1 score: ', f1_score)\n"
      ]
    },
    {
      "cell_type": "code",
      "execution_count": 83,
      "metadata": {
        "colab": {
          "base_uri": "https://localhost:8080/",
          "height": 449
        },
        "id": "C6rbp_ZHxkq-",
        "outputId": "e3ba2688-711e-4002-d100-b27a538724c6"
      },
      "outputs": [
        {
          "data": {
            "image/png": "[encoded data removed]",
            "text/plain": [
              "<Figure size 432x288 with 2 Axes>"
            ]
          },
          "metadata": {
            "needs_background": "light"
          },
          "output_type": "display_data"
        }
      ],
      "source": [
        "from sklearn.metrics import confusion_matrix, ConfusionMatrixDisplay\n",
        "cm = confusion_matrix(y_true_test, y_pred_test, labels=np.unique(y_pred_test))\n",
        "disp = ConfusionMatrixDisplay(confusion_matrix=cm, display_labels=np.unique(y_pred_test))\n",
        "disp.plot()\n",
        "plt.show()"
      ]
    },
    {
      "cell_type": "markdown",
      "metadata": {
        "id": "zSZjXk_Xxkq-"
      },
      "source": [
        "#### Tutorial list\n",
        "https://pytorch-geometric.readthedocs.io/en/latest/get_started/introduction.html\n",
        "\n",
        "https://medium.com/mlearning-ai/ultimate-guide-to-graph-neural-networks-1-cora-dataset-37338c04fe6f\n",
        "\n",
        "https://neptune.ai/blog/pytorch-loss-functions"
      ]
    },
    {
      "cell_type": "code",
      "execution_count": null,
      "metadata": {},
      "outputs": [],
      "source": []
    }
  ],
  "metadata": {
    "accelerator": "GPU",
    "colab": {
      "gpuType": "A100",
      "machine_shape": "hm",
      "provenance": []
    },
    "gpuClass": "standard",
    "kernelspec": {
      "display_name": "jupyter-env",
      "language": "python",
      "name": "python3"
    },
    "language_info": {
      "codemirror_mode": {
        "name": "ipython",
        "version": 3
      },
      "file_extension": ".py",
      "mimetype": "text/x-python",
      "name": "python",
      "nbconvert_exporter": "python",
      "pygments_lexer": "ipython3",
      "version": "3.10.9"
    },
    "orig_nbformat": 4
  },
  "nbformat": 4,
  "nbformat_minor": 0
}
